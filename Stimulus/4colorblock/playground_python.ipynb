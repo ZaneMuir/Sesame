{
 "cells": [
  {
   "cell_type": "code",
   "execution_count": 1,
   "metadata": {},
   "outputs": [],
   "source": [
    "import numpy as np\n",
    "import pyglet\n",
    "import os"
   ]
  },
  {
   "cell_type": "code",
   "execution_count": 37,
   "metadata": {},
   "outputs": [],
   "source": [
    "def getPygletColorMap(colordict, height=1080, width=1440, suffix=\"\"):\n",
    "    \"\"\"Return colormap in pyglet.image.\n",
    "    the colordict should be {colorname:(r,g,b,a)}\n",
    "    \"\"\"\n",
    "    colormap = {}\n",
    "    for (name, pattern) in colordict.items():\n",
    "        _temp = pyglet.image.SolidColorImagePattern(pattern)\n",
    "        colormap[name] = _temp.create_image(width=width, height=height)\n",
    "    \n",
    "    return colormap\n",
    "\n",
    "def createLuminanceMap(L, height=1080, width=1440):\n",
    "    _data = np.ones(height*width, dtype='uint8') * int(L)\n",
    "    _buffer = pyglet.image.ImageData(width=width, height=height, \n",
    "                                     data=_data.tobytes(), format='L',\n",
    "                                     pitch=width)\n",
    "    return _buffer"
   ]
  },
  {
   "cell_type": "code",
   "execution_count": 3,
   "metadata": {},
   "outputs": [
    {
     "data": {
      "text/plain": [
       "{'black': <ImageData 1440x1080>,\n",
       " 'blue': <ImageData 1440x1080>,\n",
       " 'gray': <ImageData 1440x1080>,\n",
       " 'green': <ImageData 1440x1080>,\n",
       " 'red': <ImageData 1440x1080>,\n",
       " 'white': <ImageData 1440x1080>}"
      ]
     },
     "execution_count": 3,
     "metadata": {},
     "output_type": "execute_result"
    }
   ],
   "source": [
    "_colors = {\n",
    "    \"black\":(0,0,0,255),\n",
    "    \"white\":(255,255,255,255),\n",
    "    \"gray\":(128,128,128,255),\n",
    "    \"green\":(0,255,0,255),\n",
    "    \"blue\":(0,0,255,255),\n",
    "    \"red\":(255,0,0,255)\n",
    "}\n",
    "\n",
    "getPygletColorMap(_colors)"
   ]
  }
 ],
 "metadata": {
  "kernelspec": {
   "display_name": "Python 3",
   "language": "python",
   "name": "python3"
  },
  "language_info": {
   "codemirror_mode": {
    "name": "ipython",
    "version": 3
   },
   "file_extension": ".py",
   "mimetype": "text/x-python",
   "name": "python",
   "nbconvert_exporter": "python",
   "pygments_lexer": "ipython3",
   "version": "3.6.4"
  }
 },
 "nbformat": 4,
 "nbformat_minor": 2
}
