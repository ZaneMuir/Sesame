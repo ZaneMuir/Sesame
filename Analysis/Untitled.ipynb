{
 "cells": [
  {
   "cell_type": "code",
   "execution_count": 96,
   "metadata": {},
   "outputs": [
    {
     "name": "stdout",
     "output_type": "stream",
     "text": [
      "marker shift: 0\n",
      "['WBC02a', 'WBC02b', 'WBC03a', 'WBC04a', 'WBC06a', 'WBC08a', 'WBC09a', 'WBC10a', 'WBC11a', 'WBC12a', 'WBC14a', 'WBC15a', 'WBC16a']\n"
     ]
    },
    {
     "data": {
      "text/plain": [
       "23"
      ]
     },
     "execution_count": 96,
     "metadata": {},
     "output_type": "execute_result"
    }
   ],
   "source": [
    "%matplotlib inline\n",
    "import matplotlib.pyplot as plt\n",
    "import numpy as np\n",
    "import pandas as pd\n",
    "import scipy.io\n",
    "from tqdm import tqdm\n",
    "import os\n",
    "\n",
    "from neuroanalysis import spike\n",
    "\n",
    "mouse_name = \"ts8_SC\"\n",
    "date = \"180415\"\n",
    "session_name = \"sine_grating\"\n",
    "#ts9_SC_180419_sine_grating\n",
    "\n",
    "experiment_id = \"{mouse}_{date}_{session}\".format(mouse=mouse_name, date=date, session=session_name)\n",
    "_data = os.path.join(\"data/3GratingSequence/SpikeTrain/\", experiment_id)\n",
    "_dir = os.path.join(\"data/3GratingSequence/CHART/\", experiment_id)\n",
    "_temp = \"data/3GratingSequence/temp\"\n",
    "if not os.path.isdir(_dir):\n",
    "    os.mkdir(_dir)\n",
    "\n",
    "# trim the marker dataframe into desired format.\n",
    "marker_table = pd.read_csv(_data+'.csv')\n",
    "trim = marker_table[marker_table.colorname!='black'].copy(deep=True)\n",
    "#trim = marker_table[marker_table.marker!='gray'].copy(deep=True)\n",
    "trim.columns = ['time','marker']\n",
    "trim.index = np.arange(0,len(trim))\n",
    "# trim\n",
    "\n",
    "spike_trains, spike_marker = spike.import_spike_train_data(session=session_name, mouse_id=mouse_name, \n",
    "                              mat=_data+\".mat\",data_dir='.',\n",
    "                              csv=trim)\n",
    "print(list(spike_trains.keys()))\n",
    "\n",
    "idx = 0\n",
    "ABABB_start = []\n",
    "ABABA_start = []\n",
    "while idx < len(spike_marker.table_marker)/5:\n",
    "    trial = spike_marker.table_marker[idx*5:idx*5+5]\n",
    "    idx += 1\n",
    "    #print(idx)\n",
    "    if trial.marker.values[-1] == 'B':\n",
    "        ABABB_start.append(trial.time.values[0])\n",
    "    else:\n",
    "        ABABA_start.append(trial.time.values[0])\n",
    "len(ABABB_start)"
   ]
  },
  {
   "cell_type": "code",
   "execution_count": 74,
   "metadata": {},
   "outputs": [],
   "source": [
    "def _gaussian_kernel(sigma, train):\n",
    "    \"\"\"The gaussian kernel.\n",
    "    $$w(\\tau) = \\\\frac{1}{\\sqrt{2 \\pi} \\sigma_w}\n",
    "    \\exp(-\\\\frac{\\\\tau^2}{2 \\sigma^2_w})$$\n",
    "    \"\"\"\n",
    "    def kkernel(t):\n",
    "        \n",
    "        _ndim = np.ndim(t)\n",
    "        _to_shape = [item for item in np.shape(t)]\n",
    "        _to_shape.append(1)\n",
    "        \n",
    "        _t = train - t.reshape(_to_shape)\n",
    "        _raw = 1/(np.sqrt(2*np.pi)*sigma) * np.exp(- _t**2/(2*sigma**2))\n",
    "        return np.sum(_raw, _ndim)\n",
    "    \n",
    "    return kkernel"
   ]
  },
  {
   "cell_type": "code",
   "execution_count": 75,
   "metadata": {},
   "outputs": [
    {
     "data": {
      "text/plain": [
       "array([ 0.03306582,  0.07408788,  0.15587848,  0.30797127,  0.57139161,\n",
       "        0.99557079,  1.62907303,  2.50354279,  3.61353254,  4.89878584,\n",
       "        6.23795941,  7.4612983 ,  8.38357117,  8.84959485,  8.7773558 ,\n",
       "        8.18256545,  7.17500182,  5.9283181 ,  4.63533769,  3.46503246,\n",
       "        2.53397949,  1.89696593,  1.55345409,  1.46257269,  1.55986984,\n",
       "        1.77224283,  2.03042398,  2.27942587,  2.48656642,  2.64550899,\n",
       "        2.77456629,  2.90875789,  3.08715149,  3.33881219,  3.67147997,\n",
       "        4.06664494,  4.48304088,  4.86793986,  5.1726111 ,  5.36614075,\n",
       "        5.44195612,  5.41445262,  5.30790536,  5.14373262,  4.9327529 ,\n",
       "        4.67592075,  4.37211635,  4.02788417,  3.66349503,  3.31212359,\n",
       "        3.012479  ,  2.79799014,  2.686717  ,  2.67566394,  2.74165772,\n",
       "        2.84891692,  2.96132736,  3.05582527,  3.13277507,  3.2200754 ,\n",
       "        3.36962136,  3.64698433,  4.11704357,  4.82938093,  5.80729584,\n",
       "        7.04315708,  8.50053713, 10.12079381, 11.82976289, 13.5404577 ,\n",
       "       15.1507055 , 16.53931563, 17.56791049, 18.0950764 , 18.00406864,\n",
       "       17.23717087, 15.82355545, 13.88734796, 11.62951382,  9.28787792,\n",
       "        7.08846045,  5.20392046,  3.73055768,  2.68707015,  2.03054026,\n",
       "        1.68104654,  1.54639147,  1.54119943,  1.59807069,  1.67122739,\n",
       "        1.7347013 ,  1.77766637,  1.79925768,  1.80447041,  1.80190017,\n",
       "        1.80348225,  1.82599304,  1.89355024,  2.03944025,  2.30465911])"
      ]
     },
     "execution_count": 75,
     "metadata": {},
     "output_type": "execute_result"
    }
   ],
   "source": [
    "kd = _gaussian_kernel(0.4, spike_trains[\"WBC11a\"].spike_train)\n",
    "kd(np.linspace(0,10,100))"
   ]
  },
  {
   "cell_type": "code",
   "execution_count": 91,
   "metadata": {},
   "outputs": [],
   "source": [
    "roi = (-2, 24)\n",
    "nbins = 100\n",
    "def _apply_linear_filter_withroi(k, starts, roi=(0,0), nbins=100, pbar=None):\n",
    "    _X = np.linspace(roi[0], roi[1], nbins)\n",
    "    X = np.array(ABABA_start).reshape(len(ABABA_start),1) + _X\n",
    "    return X\n",
    "    \n",
    "\n",
    "XX = _apply_linear_filter_withroi(kd, ABABA_start, roi)"
   ]
  },
  {
   "cell_type": "code",
   "execution_count": 85,
   "metadata": {},
   "outputs": [],
   "source": [
    "import time"
   ]
  },
  {
   "cell_type": "code",
   "execution_count": 94,
   "metadata": {},
   "outputs": [
    {
     "name": "stdout",
     "output_type": "stream",
     "text": [
      "4.094098091125488\n",
      "1.7431342601776123\n"
     ]
    }
   ],
   "source": [
    "t = time.time()\n",
    "dd=kd(XX[1:100])\n",
    "print(time.time() - t)\n",
    "\n",
    "def trial():\n",
    "    for i in range(100):\n",
    "        kd(XX[i])\n",
    "t = time.time()\n",
    "trial()\n",
    "print(time.time() - t)"
   ]
  },
  {
   "cell_type": "code",
   "execution_count": 93,
   "metadata": {},
   "outputs": [
    {
     "data": {
      "text/plain": [
       "[<matplotlib.lines.Line2D at 0x12b9dc9b0>]"
      ]
     },
     "execution_count": 93,
     "metadata": {},
     "output_type": "execute_result"
    },
    {
     "data": {
      "image/png": "[encoded data removed]",
      "text/plain": [
       "<matplotlib.figure.Figure at 0x12c1e82e8>"
      ]
     },
     "metadata": {},
     "output_type": "display_data"
    }
   ],
   "source": [
    "_X = np.linspace(roi[0], roi[1], nbins)\n",
    "plt.plot(_X, np.mean(dd,0))"
   ]
  },
  {
   "cell_type": "code",
   "execution_count": 103,
   "metadata": {},
   "outputs": [],
   "source": [
    "import time"
   ]
  },
  {
   "cell_type": "code",
   "execution_count": 104,
   "metadata": {},
   "outputs": [
    {
     "name": "stdout",
     "output_type": "stream",
     "text": [
      "6.351038932800293\n"
     ]
    }
   ],
   "source": [
    "dim = 600\n",
    "a = np.random.rand(dim,dim,dim)\n",
    "b = np.random.rand(dim,dim,dim)\n",
    "t = time.time()\n",
    "dd = a+b\n",
    "print(time.time() - t)"
   ]
  },
  {
   "cell_type": "code",
   "execution_count": null,
   "metadata": {},
   "outputs": [],
   "source": []
  }
 ],
 "metadata": {
  "kernelspec": {
   "display_name": "Python 3",
   "language": "python",
   "name": "python3"
  },
  "language_info": {
   "codemirror_mode": {
    "name": "ipython",
    "version": 3
   },
   "file_extension": ".py",
   "mimetype": "text/x-python",
   "name": "python",
   "nbconvert_exporter": "python",
   "pygments_lexer": "ipython3",
   "version": "3.6.4"
  }
 },
 "nbformat": 4,
 "nbformat_minor": 2
}
