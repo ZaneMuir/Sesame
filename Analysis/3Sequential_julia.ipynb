{
 "cells": [
  {
   "cell_type": "code",
   "execution_count": 1,
   "metadata": {},
   "outputs": [
    {
     "ename": "LoadError",
     "evalue": "\u001b[91mcould not open file /Users/zane/Documents/MyDocuments/Plans/2-private/eagle/Foundation/Project Sesame/Sesame/Analysis/spike.jl/spike.jl\u001b[39m",
     "output_type": "error",
     "traceback": [
      "\u001b[91mcould not open file /Users/zane/Documents/MyDocuments/Plans/2-private/eagle/Foundation/Project Sesame/Sesame/Analysis/spike.jl/spike.jl\u001b[39m",
      "",
      "Stacktrace:",
      " [1] \u001b[1minclude_from_node1\u001b[22m\u001b[22m\u001b[1m(\u001b[22m\u001b[22m::String\u001b[1m)\u001b[22m\u001b[22m at \u001b[1m./loading.jl:569\u001b[22m\u001b[22m",
      " [2] \u001b[1minclude\u001b[22m\u001b[22m\u001b[1m(\u001b[22m\u001b[22m::String\u001b[1m)\u001b[22m\u001b[22m at \u001b[1m./sysimg.jl:14\u001b[22m\u001b[22m"
     ]
    }
   ],
   "source": [
    "include(\"spike.jl/spike.jl\")"
   ]
  },
  {
   "cell_type": "code",
   "execution_count": null,
   "metadata": {},
   "outputs": [],
   "source": []
  }
 ],
 "metadata": {
  "kernelspec": {
   "display_name": "Julia 0.6.0",
   "language": "julia",
   "name": "julia-0.6"
  },
  "language_info": {
   "file_extension": ".jl",
   "mimetype": "application/julia",
   "name": "julia",
   "version": "0.6.0"
  }
 },
 "nbformat": 4,
 "nbformat_minor": 2
}
