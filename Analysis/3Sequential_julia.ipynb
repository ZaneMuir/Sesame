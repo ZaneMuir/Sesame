{
 "cells": [
  {
   "cell_type": "code",
   "execution_count": 2,
   "metadata": {},
   "outputs": [
    {
     "name": "stderr",
     "output_type": "stream",
     "text": [
      "WARNING: replacing module NeuroAnalysis\n",
      "WARNING: Method definition read(String) in module NeuroLynxIO at /Users/zane/Documents/MyDocuments/Plans/2-private/eagle/Foundation/Project Sesame/Sesame/Analysis/spike.jl/Reader/NeuroLynxIO.jl:13 overwritten in module NeuroLynxIO at /Users/zane/Documents/MyDocuments/Plans/2-private/eagle/Foundation/Project Sesame/Sesame/Analysis/spike.jl/Reader/NeuroLynxIO.jl:13.\n"
     ]
    },
    {
     "data": {
      "text/plain": [
       "NeuroAnalysis"
      ]
     },
     "execution_count": 2,
     "metadata": {},
     "output_type": "execute_result"
    }
   ],
   "source": [
    "using DataFrames\n",
    "using Query\n",
    "using ProgressMeter\n",
    "using Plots\n",
    "pyplot()\n",
    "\n",
    "include(\"spike.jl/NeuroAnalysis.jl\")"
   ]
  },
  {
   "cell_type": "code",
   "execution_count": 40,
   "metadata": {},
   "outputs": [],
   "source": [
    "_session = \"ts13_V1_180514_COLOR2\"\n",
    "_dir = \"data/3GratingSequence/SpikeTrain\"\n",
    "_chart = joinpath(\"data/3GratingSequence\", \"CHART\", _session)\n",
    "isdir(_chart)||mkdir(_chart)\n",
    "#_csvpath = joinpath(_dir, \"SpikeTrain\", \"$_session.csv\")\n",
    "#_matpath = joinpath(_dir, \"S"
   ]
  },
  {
   "cell_type": "code",
   "execution_count": 50,
   "metadata": {},
   "outputs": [
    {
     "name": "stdout",
     "output_type": "stream",
     "text": [
      "  0.243740 seconds (56.38 k allocations: 4.756 MiB, 12.60% gc time)\n"
     ]
    }
   ],
   "source": [
    "function block_chunker(_table, _train)\n",
    "    _chunked = Dict(\n",
    "        \"green\"=>[60.0*(i-1) + _train[3] for i=1:14],\n",
    "        \"blue\" =>[60.0*(i-1) + _train[3] + 30.0 for i=1:14]\n",
    "    )\n",
    "    \n",
    "end\n",
    "\n",
    "@time _spike_units, _spike_marker = NeuroAnalysis.SpikeUnits.import_spike_train_data(\n",
    "    _session, \"1\",\n",
    "    _dir = _dir,\n",
    "    _chunker=block_chunker,\n",
    "    _marker_channel=\"Text_Mark\"\n",
    ");"
   ]
  },
  {
   "cell_type": "code",
   "execution_count": 51,
   "metadata": {},
   "outputs": [
    {
     "data": {
      "text/plain": [
       "Dict{String,Array{Float64,1}} with 2 entries:\n",
       "  \"blue\"  => [119.602, 179.602, 239.602, 299.602, 359.602, 419.602, 479.602, 53…\n",
       "  \"green\" => [89.6016, 149.602, 209.602, 269.602, 329.602, 389.602, 449.602, 50…"
      ]
     },
     "execution_count": 51,
     "metadata": {},
     "output_type": "execute_result"
    }
   ],
   "source": [
    "_spike_marker.chunked_marker"
   ]
  },
  {
   "cell_type": "code",
   "execution_count": 47,
   "metadata": {},
   "outputs": [
    {
     "data": {
      "text/plain": [
       "930"
      ]
     },
     "execution_count": 47,
     "metadata": {},
     "output_type": "execute_result"
    }
   ],
   "source": [
    "14*60+90"
   ]
  },
  {
   "cell_type": "code",
   "execution_count": 45,
   "metadata": {},
   "outputs": [
    {
     "data": {
      "text/plain": [
       "NeuroAnalysis.SpikeUnits.SpikeUnit(\"ts13_V1_180514_COLOR2\", \"1\", \"CSC6a\", [0.04155, 0.0448, 0.0522, 60.8675, 61.0062, 61.0165, 61.0268, 61.1051, 61.1127, 61.126  …  979.731, 979.769, 979.856, 979.866, 979.873, 979.875, 979.895, 979.92, 979.949, 979.978])"
      ]
     },
     "execution_count": 45,
     "metadata": {},
     "output_type": "execute_result"
    }
   ],
   "source": [
    "_spike_units[\"CSC6a\"]"
   ]
  },
  {
   "cell_type": "code",
   "execution_count": 27,
   "metadata": {},
   "outputs": [],
   "source": [
    "nord = Dict(\n",
    "    :polarnight => (\"#2e3440\", \"#3b4252\", \"#434c5e\", \"#4c566a\"),            # polar night\n",
    "    :snowstorm  => (\"#d8dee9\", \"#e5e9f0\", \"#eceff4\"),                       # snow storm\n",
    "    :frost      => (\"#8fbcbb\", \"#88c0d0\", \"#81a1c1\", \"#5e81ac\"),            # frosta\n",
    "    :aurora     => (\"#bf616a\", \"#d08770\", \"#ebcb8b\", \"#a3be8c\", \"#b48ead\")  # aurora\n",
    ");"
   ]
  },
  {
   "cell_type": "code",
   "execution_count": 33,
   "metadata": {},
   "outputs": [
    {
     "name": "stderr",
     "output_type": "stream",
     "text": [
      "\u001b[32mProgress: 100%|█████████████████████████████████████████| Time: 0:00:24\u001b[39m\n"
     ]
    }
   ],
   "source": [
    "roi = -5:0.1:25\n",
    "backgrounds = -4:0.1:-1\n",
    "pbar = Progress(length(_spike_units), dt=1)\n",
    "for (channel, spike) in _spike_units\n",
    "    _train = spike.spike_train\n",
    "    k = NeuroAnalysis.LinearFilter.gaussian_kernel(_train, 0.4);\n",
    "    dx = NeuroAnalysis.LinearFilter.apply_roi_aggregate(k, _spike_marker.chunked_marker[\"ABABA\"], roi, backgrounds);\n",
    "    \n",
    "    \n",
    "    #===========plotting===========#\n",
    "    ABABA_color = nord[:aurora][5]\n",
    "    ABABB_color = nord[:aurora][4]\n",
    "\n",
    "    summary = plot(roi, mean(dx,2), ribbon=std(dx,2), fillalpha=0.1, linewidth=2, color=ABABA_color, legend=false);\n",
    "\n",
    "    plot(roi, mean(dx,2),fillalpha=0.1,linewidth=4, color=ABABA_color, legend=false);\n",
    "    ABABA = plot!(roi, dx, alpha=0.1, color=ABABA_color, legend=false);\n",
    "    plot(summary,ABABA,layout=(2,1), size=(900,600))\n",
    "    savefig(joinpath(_chart, \"$(_session)_$(channel).png\"))\n",
    "    \n",
    "    next!(pbar)\n",
    "end"
   ]
  },
  {
   "cell_type": "markdown",
   "metadata": {},
   "source": [
    "---\n",
    "## color block"
   ]
  },
  {
   "cell_type": "code",
   "execution_count": 53,
   "metadata": {},
   "outputs": [
    {
     "name": "stderr",
     "output_type": "stream",
     "text": [
      "\u001b[32mProgress: 100%|█████████████████████████████████████████| Time: 0:00:52\u001b[39m\n"
     ]
    }
   ],
   "source": [
    "roi = -5:0.1:25\n",
    "backgrounds = -4:0.1:-1\n",
    "pbar = Progress(length(_spike_units), dt=1)\n",
    "for (channel, spike) in _spike_units\n",
    "    _train = spike.spike_train\n",
    "    k = NeuroAnalysis.LinearFilter.gaussian_kernel(_train, 0.4);\n",
    "    green = NeuroAnalysis.LinearFilter.apply_roi_aggregate(k, _spike_marker.chunked_marker[\"green\"], roi, backgrounds);\n",
    "    blue  = NeuroAnalysis.LinearFilter.apply_roi_aggregate(k, _spike_marker.chunked_marker[\"blue\"], roi, backgrounds);\n",
    "    \n",
    "    \n",
    "    #===========plotting===========#\n",
    "    blue_color = nord[:frost][4]\n",
    "    green_color = nord[:aurora][4]\n",
    "\n",
    "    plot(roi, mean(green,2), ribbon=std(green,2), fillalpha=0.1, linewidth=2, color=green_color, legend=false);\n",
    "    summary = plot!(roi, mean(blue,2), ribbon=std(blue,2), fillalpha=0.1, linewidth=2, color=blue_color, legend=false);\n",
    "    \n",
    "    plot(roi, mean(green,2),fillalpha=0.1,linewidth=4, color=green_color, legend=false);\n",
    "    green_plot = plot!(roi, green, alpha=0.1, color=green_color, legend=false);\n",
    "    \n",
    "    plot(roi, mean(blue,2),fillalpha=0.1,linewidth=4, color=blue_color, legend=false);\n",
    "    blue_plot = plot!(roi, blue, alpha=0.1, color=blue_color, legend=false);\n",
    "    \n",
    "    plot(summary,green_plot,blue_plot,layout=(3,1), size=(900,900))\n",
    "    savefig(joinpath(_chart, \"$(_session)_$(channel).png\"))\n",
    "    \n",
    "    next!(pbar)\n",
    "end"
   ]
  },
  {
   "cell_type": "code",
   "execution_count": null,
   "metadata": {},
   "outputs": [],
   "source": []
  }
 ],
 "metadata": {
  "kernelspec": {
   "display_name": "Julia 0.6.0",
   "language": "julia",
   "name": "julia-0.6"
  },
  "language_info": {
   "file_extension": ".jl",
   "mimetype": "application/julia",
   "name": "julia",
   "version": "0.6.2"
  }
 },
 "nbformat": 4,
 "nbformat_minor": 2
}
