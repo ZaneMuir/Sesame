{
 "cells": [
  {
   "cell_type": "code",
   "execution_count": 5,
   "metadata": {},
   "outputs": [
    {
     "name": "stdout",
     "output_type": "stream",
     "text": [
      "  8.087012 seconds (6 allocations: 1.609 GiB, 1.24% gc time)\n"
     ]
    }
   ],
   "source": [
    "dim = 600\n",
    "a = rand(dim,dim,dim)\n",
    "b = rand(dim,dim,dim)\n",
    "@time a + b;"
   ]
  },
  {
   "cell_type": "code",
   "execution_count": 6,
   "metadata": {},
   "outputs": [
    {
     "name": "stdout",
     "output_type": "stream",
     "text": [
      "  8.571124 seconds (6 allocations: 1.609 GiB, 4.02% gc time)\n"
     ]
    }
   ],
   "source": [
    "@time a + b;"
   ]
  },
  {
   "cell_type": "code",
   "execution_count": null,
   "metadata": {},
   "outputs": [],
   "source": []
  }
 ],
 "metadata": {
  "kernelspec": {
   "display_name": "Julia 0.6.0",
   "language": "julia",
   "name": "julia-0.6"
  },
  "language_info": {
   "file_extension": ".jl",
   "mimetype": "application/julia",
   "name": "julia",
   "version": "0.6.2"
  }
 },
 "nbformat": 4,
 "nbformat_minor": 2
}
