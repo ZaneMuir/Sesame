{
 "cells": [
  {
   "cell_type": "code",
   "execution_count": 5,
   "metadata": {},
   "outputs": [
    {
     "name": "stderr",
     "output_type": "stream",
     "text": [
      "WARNING: Method definition ==(Base.Nullable{S}, Base.Nullable{T}) in module Base at nullable.jl:238 overwritten in module NullableArrays at /Users/zane/.julia/v0.6/NullableArrays/src/operators.jl:99.\n"
     ]
    }
   ],
   "source": [
    "using DataFrames\n",
    "using CSV\n",
    "using Plots\n",
    "using MAT"
   ]
  },
  {
   "cell_type": "markdown",
   "metadata": {},
   "source": [
    "# move .csv and unzip .csv into CSV_TRAIN"
   ]
  },
  {
   "cell_type": "code",
   "execution_count": 32,
   "metadata": {
    "collapsed": true
   },
   "outputs": [
    {
     "name": "stdout",
     "output_type": "stream",
     "text": [
      "processed: WBC15a\n",
      "processed: DIG01\n",
      "processed: WBC03b\n",
      "processed: WBC07a\n",
      "processed: WBC11a\n",
      "processed: WBC05b\n",
      "processed: WBC08a\n",
      "processed: WBC05a\n",
      "processed: WBC06a\n",
      "processed: WBC13a\n",
      "processed: WBC02a\n",
      "processed: WBC16a\n",
      "processed: WBC03a\n",
      "processed: WBC14a\n"
     ]
    },
    {
     "data": {
      "text/plain": [
       "15-element Array{String,1}:\n",
       " \"ts3_V1_180325_GB.csv\"       \n",
       " \"ts3_V1_180325_GB_DIG01.csv\" \n",
       " \"ts3_V1_180325_GB_WBC02a.csv\"\n",
       " \"ts3_V1_180325_GB_WBC03a.csv\"\n",
       " \"ts3_V1_180325_GB_WBC03b.csv\"\n",
       " \"ts3_V1_180325_GB_WBC05a.csv\"\n",
       " \"ts3_V1_180325_GB_WBC05b.csv\"\n",
       " \"ts3_V1_180325_GB_WBC06a.csv\"\n",
       " \"ts3_V1_180325_GB_WBC07a.csv\"\n",
       " \"ts3_V1_180325_GB_WBC08a.csv\"\n",
       " \"ts3_V1_180325_GB_WBC11a.csv\"\n",
       " \"ts3_V1_180325_GB_WBC13a.csv\"\n",
       " \"ts3_V1_180325_GB_WBC14a.csv\"\n",
       " \"ts3_V1_180325_GB_WBC15a.csv\"\n",
       " \"ts3_V1_180325_GB_WBC16a.csv\""
      ]
     },
     "execution_count": 32,
     "metadata": {},
     "output_type": "execute_result"
    }
   ],
   "source": [
    "filename = \"ts3_V1_180325_GB\"\n",
    "source_dir = \"NEX_TRAIN\"\n",
    "target_dir = joinpath(\"CSV_TRAIN\", filename)\n",
    "isdir(target_dir)?nothing:mkdir(target_dir)\n",
    "\n",
    "stimfile = filename * \".csv\"\n",
    "matfile = matread(joinpath(source_dir, filename * \".mat\"))\n",
    "cp(joinpath(source_dir, stimfile), joinpath(target_dir, stimfile))\n",
    "\n",
    "for item in matfile\n",
    "    unit_name = item[1]\n",
    "    spike_train = DataFrame(spike=item[2][\"times\"][:])\n",
    "    CSV.write(joinpath(target_dir, filename*\"_\"*unit_name*\".csv\"), spike_train, header=false)\n",
    "    println(\"processed: \"*unit_name)\n",
    "end\n",
    "[item for item in readdir(target_dir) if splitext(item)[2] == \".csv\"]"
   ]
  },
  {
   "cell_type": "markdown",
   "metadata": {},
   "source": [
    "# Convert bad csv to good csv\n",
    "\n",
    "__DANGEROUSE!!!__"
   ]
  },
  {
   "cell_type": "code",
   "execution_count": 49,
   "metadata": {},
   "outputs": [],
   "source": [
    "filename = \"ts3_V1_180325_L\"\n",
    "source_dir = \"NEX_TRAIN\"\n",
    "f = open(joinpath(source_dir, filename * \".csv\"),\"r\")\n",
    "data = split(String(read(f)), \"\\r\\n\")[1:end-1]\n",
    "close(f)\n",
    "result = data[1] * \"\\n\" * data[2] * \"\\n\"\n",
    "for item in data[3:end-2]\n",
    "    dsss = split(item,\",\")\n",
    "    result *= dsss[1] * \",\" * dsss[2] * \"#\" * dsss[3] * \"\\n\"\n",
    "end\n",
    "if endswith(data[end],\"QUIT\")\n",
    "    result *= data[end] * \"\\n\"\n",
    "else\n",
    "    dsss = split(data[end],\",\")\n",
    "    result *= dsss[1] * \",\" * dsss[2] * \"#\" * dsss[3] * \"\\n\"\n",
    "end\n",
    "f = open(joinpath(source_dir, filename * \".csv\"),\"w\")\n",
    "write(f, result)\n",
    "close(f)"
   ]
  }
 ],
 "metadata": {
  "kernelspec": {
   "display_name": "Julia 0.6.0",
   "language": "julia",
   "name": "julia-0.6"
  },
  "language_info": {
   "file_extension": ".jl",
   "mimetype": "application/julia",
   "name": "julia",
   "version": "0.6.0"
  }
 },
 "nbformat": 4,
 "nbformat_minor": 2
}
