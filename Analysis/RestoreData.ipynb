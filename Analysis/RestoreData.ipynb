{
 "cells": [
  {
   "cell_type": "code",
   "execution_count": 10,
   "metadata": {},
   "outputs": [],
   "source": [
    "using SQLite\n",
    "include(\"TuningCurvePortal.jl\");"
   ]
  },
  {
   "cell_type": "code",
   "execution_count": 4,
   "metadata": {},
   "outputs": [
    {
     "data": {
      "text/plain": [
       "SQLite.DB(\"NEXData.sqlite\")"
      ]
     },
     "execution_count": 4,
     "metadata": {},
     "output_type": "execute_result"
    }
   ],
   "source": [
    "database = SQLite.DB(\"NEXData.sqlite\")"
   ]
  },
  {
   "cell_type": "markdown",
   "metadata": {},
   "source": [
    "# Creating New Table"
   ]
  },
  {
   "cell_type": "code",
   "execution_count": 6,
   "metadata": {},
   "outputs": [
    {
     "data": {
      "text/html": [
       "<table class=\"data-frame\"><thead><tr><th></th></tr></thead><tbody></tbody></table>"
      ],
      "text/plain": [
       "0×0 DataFrames.DataFrame\n"
      ]
     },
     "execution_count": 6,
     "metadata": {},
     "output_type": "execute_result"
    }
   ],
   "source": [
    "cmd = \"\"\"CREATE TABLE summary(\n",
    "    unit TEXT PRIMARY KEY NOT NULL,\n",
    "    mouse TEXT,\n",
    "    date TEXT,\n",
    "    position TEXT,\n",
    "    stimulus_type TEXT,\n",
    "    stimulus_info TEXT,\n",
    "    response TEXT,\n",
    "    isChronic INT\n",
    ");\"\"\"\n",
    "SQLite.query(database, cmd)"
   ]
  },
  {
   "cell_type": "code",
   "execution_count": null,
   "metadata": {},
   "outputs": [],
   "source": [
    "function "
   ]
  },
  {
   "cell_type": "markdown",
   "metadata": {},
   "source": [
    "# Creating New Entry"
   ]
  },
  {
   "cell_type": "code",
   "execution_count": 11,
   "metadata": {},
   "outputs": [
    {
     "data": {
      "text/plain": [
       "10-element Array{Tuple{String,Array{Float64,2}},1}:\n",
       " (\"WBC15a\", [2.64157; 4.29597; … ; 362.542; 364.439]) \n",
       " (\"WBC02b\", [3.61473; 3.99547; … ; 364.202; 364.461]) \n",
       " (\"WBC08a\", [1.0241; 2.6628; … ; 362.196; 363.346])   \n",
       " (\"WBC08b\", [0.639133; 0.6416; … ; 363.342; 364.273]) \n",
       " (\"WBC06a\", [3.94317; 4.34377; … ; 349.947; 353.88])  \n",
       " (\"WBC04a\", [2.99193; 3.0008; … ; 364.204; 364.261])  \n",
       " (\"WBC14b\", [0.0480333; 0.3195; … ; 363.084; 364.191])\n",
       " (\"WBC09a\", [3.041; 3.0511; … ; 364.171; 364.179])    \n",
       " (\"WBC02a\", [2.42147; 3.991; … ; 362.547; 364.21])    \n",
       " (\"WBC14a\", [4.436; 4.489; … ; 359.238; 364.199])     "
      ]
     },
     "execution_count": 11,
     "metadata": {},
     "output_type": "execute_result"
    }
   ],
   "source": [
    "target_name = \"ts4_SC_180327_GB\"\n",
    "(spike_trains, marker, stim_info) = TuningCurvePortal.getTargetData(target_name)\n",
    "spike_trains"
   ]
  },
  {
   "cell_type": "code",
   "execution_count": 12,
   "metadata": {},
   "outputs": [
    {
     "name": "stdout",
     "output_type": "stream",
     "text": [
      "WBC15a\n",
      "WBC02b\n",
      "WBC08a\n",
      "WBC08b\n",
      "WBC06a\n",
      "WBC04a\n",
      "WBC14b\n",
      "WBC09a\n",
      "WBC02a\n",
      "WBC14a\n"
     ]
    }
   ],
   "source": [
    "for (name, spike_train) in spike_trains\n",
    "    println(name)\n",
    "end"
   ]
  },
  {
   "cell_type": "code",
   "execution_count": null,
   "metadata": {},
   "outputs": [],
   "source": []
  }
 ],
 "metadata": {
  "kernelspec": {
   "display_name": "Julia 0.6.0",
   "language": "julia",
   "name": "julia-0.6"
  },
  "language_info": {
   "file_extension": ".jl",
   "mimetype": "application/julia",
   "name": "julia",
   "version": "0.6.0"
  }
 },
 "nbformat": 4,
 "nbformat_minor": 2
}
