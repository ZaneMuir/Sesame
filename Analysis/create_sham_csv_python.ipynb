{
 "cells": [
  {
   "cell_type": "code",
   "execution_count": 1,
   "metadata": {},
   "outputs": [],
   "source": [
    "stim_seq=[# (name[, high_duration])\n",
    "        \"A\", \"B\", \"A\", \"B\", \"A\", \"gray\", \"gray\", \"gray\"\n",
    "    ]\n",
    "high_duration = 1.5\n",
    "low_duration = 1.5\n",
    "loop = 150"
   ]
  },
  {
   "cell_type": "code",
   "execution_count": 3,
   "metadata": {},
   "outputs": [],
   "source": [
    "sham_file = open(\"sham.csv\",\"w\")\n",
    "sham_file.write(\"time,marker\\n0.0,START\\n\")\n",
    "line = \"{time},{name}\\n\"\n",
    "tstamp = 180.0\n",
    "for _ in range(loop):\n",
    "    for item in stim_seq:\n",
    "        sham_file.write(line.format(time=tstamp, name=item))\n",
    "        tstamp += high_duration + low_duration\n",
    "sham_file.write(\"0.0,QUIT\\n\")\n",
    "sham_file.close()"
   ]
  },
  {
   "cell_type": "code",
   "execution_count": null,
   "metadata": {},
   "outputs": [],
   "source": []
  }
 ],
 "metadata": {
  "kernelspec": {
   "display_name": "Python 3",
   "language": "python",
   "name": "python3"
  },
  "language_info": {
   "codemirror_mode": {
    "name": "ipython",
    "version": 3
   },
   "file_extension": ".py",
   "mimetype": "text/x-python",
   "name": "python",
   "nbconvert_exporter": "python",
   "pygments_lexer": "ipython3",
   "version": "3.6.4"
  }
 },
 "nbformat": 4,
 "nbformat_minor": 2
}
