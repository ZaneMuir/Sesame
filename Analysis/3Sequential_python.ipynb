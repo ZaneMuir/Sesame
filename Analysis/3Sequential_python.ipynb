{
 "cells": [
  {
   "cell_type": "code",
   "execution_count": 1,
   "metadata": {},
   "outputs": [
    {
     "name": "stderr",
     "output_type": "stream",
     "text": [
      "/usr/local/Cellar/python3/3.6.4_2/Frameworks/Python.framework/Versions/3.6/lib/python3.6/site-packages/h5py/__init__.py:36: FutureWarning: Conversion of the second argument of issubdtype from `float` to `np.floating` is deprecated. In future, it will be treated as `np.float64 == np.dtype(float).type`.\n",
      "  from ._conv import register_converters as _register_converters\n"
     ]
    }
   ],
   "source": [
    "# %matplotlib inline\n",
    "import matplotlib.pyplot as plt\n",
    "import numpy as np\n",
    "import pandas as pd\n",
    "import scipy.io\n",
    "from tqdm import tqdm\n",
    "import os\n",
    "\n",
    "import spike\n",
    "\n",
    "mouse_name = \"ts10_V1\"\n",
    "date = \"180424\"\n",
    "session_name = \"ABABB\"\n",
    "#ts9_SC_180419_sine_grating\n",
    "\n",
    "experiment_id = \"{mouse}_{date}_{session}\".format(mouse=mouse_name, date=date, session=session_name)\n",
    "_data = os.path.join(\"data/3GratingSequence/SpikeTrain/\", experiment_id)\n",
    "_dir = os.path.join(\"data/3GratingSequence/CHART/\", experiment_id)\n",
    "_temp = \"data/3GratingSequence/temp\"\n",
    "if not os.path.isdir(_dir):\n",
    "    os.mkdir(_dir)"
   ]
  },
  {
   "cell_type": "markdown",
   "metadata": {},
   "source": [
    "# import data"
   ]
  },
  {
   "cell_type": "code",
   "execution_count": 2,
   "metadata": {},
   "outputs": [
    {
     "name": "stdout",
     "output_type": "stream",
     "text": [
      "marker shift: 2\n"
     ]
    },
    {
     "name": "stderr",
     "output_type": "stream",
     "text": [
      "/usr/local/Cellar/python3/3.6.4_2/Frameworks/Python.framework/Versions/3.6/lib/python3.6/site-packages/pandas/core/indexing.py:477: SettingWithCopyWarning: \n",
      "A value is trying to be set on a copy of a slice from a DataFrame.\n",
      "Try using .loc[row_indexer,col_indexer] = value instead\n",
      "\n",
      "See the caveats in the documentation: http://pandas.pydata.org/pandas-docs/stable/indexing.html#indexing-view-versus-copy\n",
      "  self.obj[item] = s\n"
     ]
    },
    {
     "data": {
      "text/plain": [
       "['WBC02a',\n",
       " 'WBC03a',\n",
       " 'WBC03b',\n",
       " 'WBC04a',\n",
       " 'WBC05a',\n",
       " 'WBC05b',\n",
       " 'WBC07a',\n",
       " 'WBC07b',\n",
       " 'WBC08a',\n",
       " 'WBC09a',\n",
       " 'WBC09b',\n",
       " 'WBC10a',\n",
       " 'WBC10b',\n",
       " 'WBC11a',\n",
       " 'WBC12a',\n",
       " 'WBC13a',\n",
       " 'WBC14a',\n",
       " 'WBC15a',\n",
       " 'WBC16a']"
      ]
     },
     "execution_count": 2,
     "metadata": {},
     "output_type": "execute_result"
    }
   ],
   "source": [
    "# trim the marker dataframe into desired format.\n",
    "marker_table = pd.read_csv(_data+'.csv')\n",
    "#trim = marker_table[marker_table.colorname!='black'].copy(deep=True)\n",
    "trim = marker_table[marker_table.marker!='gray'].copy(deep=True)\n",
    "trim.columns = ['time','marker']\n",
    "trim.index = np.arange(0,len(trim))\n",
    "# trim\n",
    "\n",
    "spike_trains, spike_marker = spike.import_spike_train_data(session=session_name, mouse_id=mouse_name, \n",
    "                              mat=_data+\".mat\",data_dir='.',\n",
    "                              csv=trim)\n",
    "list(spike_trains.keys())"
   ]
  },
  {
   "cell_type": "markdown",
   "metadata": {},
   "source": [
    "# Preview: spike rasters"
   ]
  },
  {
   "cell_type": "code",
   "execution_count": 3,
   "metadata": {},
   "outputs": [],
   "source": [
    "plt.figure(figsize=(320,4))\n",
    "idx = 0\n",
    "for (channel, each_train) in spike_trains.items():\n",
    "    train = each_train.spike_train\n",
    "    plt.vlines(train, idx-0.5, idx+0.5)\n",
    "    idx += 1\n",
    "plt.vlines(spike_marker._raw_train, -2, -1, color='r')\n",
    "#plt.vlines(spike_marker._raw_table.time[1:-1], -3 ,-2, color='g')\n",
    "plt.yticks(range(len(spike_trains)),list(spike_trains.keys()))\n",
    "plt.xlim((0,np.max([i.spike_train[-1] for i in spike_trains.values()])))\n",
    "plt.savefig(os.path.join(_dir, experiment_id+\"_preivew.png\"),bbox_inches='tight')\n",
    "#plt.show()"
   ]
  },
  {
   "cell_type": "markdown",
   "metadata": {},
   "source": [
    "# seperate ABABA and ABABB trial markers"
   ]
  },
  {
   "cell_type": "code",
   "execution_count": 4,
   "metadata": {},
   "outputs": [
    {
     "data": {
      "text/plain": [
       "13"
      ]
     },
     "execution_count": 4,
     "metadata": {},
     "output_type": "execute_result"
    }
   ],
   "source": [
    "idx = 0\n",
    "ABABB_start = []\n",
    "ABABA_start = []\n",
    "while idx < len(spike_marker.table_marker)/5:\n",
    "    trial = spike_marker.table_marker[idx*5:idx*5+5]\n",
    "    idx += 1\n",
    "    #print(idx)\n",
    "    if trial.marker.values[-1] == 'B':\n",
    "        ABABB_start.append(trial.time.values[0])\n",
    "    else:\n",
    "        ABABA_start.append(trial.time.values[0])\n",
    "len(ABABB_start)"
   ]
  },
  {
   "cell_type": "markdown",
   "metadata": {},
   "source": [
    "# calculate mean response for each trial in each channel\n",
    "\n",
    "with ROI as (-1, 16)\n",
    "\n",
    "using guassian kernel, with $\\sigma=0.4$\n",
    "\n",
    "save everything in a 2darray into a mat file: \"{session\\_name}\\_{mouse\\_name}\\_{date}\\_{channel}.mat\"."
   ]
  },
  {
   "cell_type": "code",
   "execution_count": 5,
   "metadata": {},
   "outputs": [],
   "source": [
    "roi = (-2,24)\n",
    "# 1.5 high, 1.5 low, \n",
    "kernel = spike.kernel('gaussian',sigma=0.4)\n",
    "step = 0.1 # second\n",
    "\n",
    "nbins = (roi[1] - roi[0]) // step"
   ]
  },
  {
   "cell_type": "code",
   "execution_count": null,
   "metadata": {},
   "outputs": [],
   "source": [
    "# loading old data\n",
    "_file = os.path.join(_dir, \"linear_filter_{setup}.mat\")\n",
    "\n",
    "\n",
    "ABABA_mean_result = scipy.io.loadmat(_file.format(setup='ABABA'))\n",
    "ABABB_mean_result = scipy.io.loadmat(_file.format(setup='ABABB'))"
   ]
  },
  {
   "cell_type": "code",
   "execution_count": 6,
   "metadata": {},
   "outputs": [
    {
     "name": "stderr",
     "output_type": "stream",
     "text": [
      "100%|██████████| 2565/2565 [02:19<00:00, 18.33it/s]\n"
     ]
    }
   ],
   "source": [
    "# processing new data\n",
    "ABABA_mean_result = {}\n",
    "ABABB_mean_result = {}\n",
    "\n",
    "mat_path = os.path.join(_temp, \"{channnel}.mat\")\n",
    "pbar = tqdm(total=len(spike_trains)*(len(ABABB_start)+len(ABABA_start)))\n",
    "\n",
    "for (channel, spike_train) in spike_trains.items():\n",
    "    mat_name = \"{channel}.mat\".format(channel=channel)\n",
    "    mat_path = os.path.join(\"data/3GratingSequence/temp/\", mat_name)\n",
    "    \n",
    "    ABABA_mean_result[channel] = spike.apply_linear_filter_withroi(spike_train.spike_train, \n",
    "                                                             kernel, ABABA_start, roi=roi, \n",
    "                                                             nbins=nbins, pbar=pbar)\n",
    "    \n",
    "    ABABB_mean_result[channel] = spike.apply_linear_filter_withroi(spike_train.spike_train, \n",
    "                                                             kernel, ABABB_start, roi=roi, \n",
    "                                                             nbins=nbins, pbar=pbar)\n",
    "    \n",
    "    scipy.io.savemat(mat_path, {\"ABABA\": ABABA_mean_result[channel], \"ABABB\": ABABB_mean_result[channel]})\n",
    "    #scipy.io.savemat(mat_path, {\"ABABA\": ABABA_mean_result[channel]})\n",
    "    # print(\"processed: \"+channel)\n",
    "pbar.close()\n",
    "mat_path = os.path.join(_dir, \"linear_filter_{setup}.mat\")\n",
    "scipy.io.savemat(mat_path.format(setup='ABABA'), ABABA_mean_result)\n",
    "scipy.io.savemat(mat_path.format(setup='ABABB'), ABABB_mean_result)"
   ]
  },
  {
   "cell_type": "markdown",
   "metadata": {},
   "source": [
    "# Visualization"
   ]
  },
  {
   "cell_type": "code",
   "execution_count": null,
   "metadata": {},
   "outputs": [],
   "source": [
    "def ABABB_markers():\n",
    "    plt.hlines(0, 0,1,linewidth=5,color='k', alpha=0.5)\n",
    "    plt.hlines(0, 2,3,linewidth=5,color='c', alpha=0.5)\n",
    "    plt.hlines(0, 4,5,linewidth=5,color='k', alpha=0.5)\n",
    "    plt.hlines(0, 6,7,linewidth=5,color='c', alpha=0.5)\n",
    "    plt.hlines(0, 8,9,linewidth=5,color='c', alpha=0.5)\n",
    "    \n",
    "def ABABA_markers():\n",
    "    plt.hlines(0, 0,1,linewidth=5,color='k', alpha=0.5)\n",
    "    plt.hlines(0, 2,3,linewidth=5,color='c', alpha=0.5)\n",
    "    plt.hlines(0, 4,5,linewidth=5,color='k', alpha=0.5)\n",
    "    plt.hlines(0, 6,7,linewidth=5,color='c', alpha=0.5)\n",
    "    plt.hlines(0, 8,9,linewidth=5,color='k', alpha=0.5)\n",
    "\n",
    "\n",
    "for channel in [i for i in ABABA_mean_result.keys() if i[0] != '_']:\n",
    "    demo1 = ABABA_mean_result[channel]\n",
    "    demo2 = ABABB_mean_result[channel]\n",
    "    plt.figure(figsize=(24,8))\n",
    "    spike.plot_curve_with_error_ribbon(demo1, roi, markers=ABABA_markers, label='A')\n",
    "    plt.title(channel)\n",
    "    spike.plot_curve_with_error_ribbon(demo2, roi, markers=ABABB_markers, label='B')\n",
    "    plt.legend()\n",
    "    plt.savefig(os.path.join(_dir, experiment_id+\"_\"+channel+\".png\"), bbox_inches='tight')\n",
    "    # plt.show()"
   ]
  },
  {
   "cell_type": "markdown",
   "metadata": {},
   "source": [
    "# Visualiztion alternative"
   ]
  },
  {
   "cell_type": "code",
   "execution_count": 7,
   "metadata": {},
   "outputs": [],
   "source": [
    "def alt_visualize(channel):\n",
    "    demo1 = ABABA_mean_result[channel]\n",
    "    demo2 = ABABB_mean_result[channel]\n",
    "    X = np.linspace(roi[0],roi[1],nbins)\n",
    "\n",
    "    def _markers(plotax=plt):\n",
    "        plotax.hlines(0, 0,1.5,linewidth=5,color='k', alpha=0.5)\n",
    "        plotax.hlines(0, 3,4.5,linewidth=5,color='c', alpha=0.5)\n",
    "        plotax.hlines(0, 6,7.5,linewidth=5,color='k', alpha=0.5)\n",
    "        plotax.hlines(0, 9,10.5,linewidth=5,color='c', alpha=0.5)\n",
    "        plotax.hlines(0, 12,13.5,linewidth=5,color='r', alpha=0.5)\n",
    "\n",
    "    fig, (ax1,ax2, ax3) = plt.subplots(3,1,figsize=(24,24),sharex=True)\n",
    "    spike.plot_curve_with_error_ribbon(demo1, roi, label='ABABA', color='#78C2C4', plotax = ax1)\n",
    "    spike.plot_curve_with_error_ribbon(demo2, roi, label='ABABB', color='#F7C242', plotax = ax1)\n",
    "    ax1.legend()\n",
    "    ax1.set_title(channel)\n",
    "\n",
    "    for each_train in demo1:\n",
    "        ax2.plot(X, each_train, color='#78C2C4', alpha=0.1, label='')\n",
    "    ax2.plot(X, np.mean(demo1, axis=0), color='#78C2C4', linewidth=5,label='ABABA')\n",
    "    ax2.legend()\n",
    "\n",
    "    for each_train in demo2:\n",
    "        ax3.plot(X, each_train, color='#B1B479', alpha=0.2, label='')\n",
    "    ax3.plot(X, np.mean(demo2, axis=0), color='#B1B479', linewidth=5, label='ABABB')\n",
    "    ax3.legend()\n",
    "\n",
    "    _markers(ax1)\n",
    "    _markers(ax2)\n",
    "    _markers(ax3)\n",
    "\n",
    "    plt.xlim(roi)\n",
    "    plt.savefig(os.path.join(_dir, experiment_id+\"_\"+channel+\".png\"),bbox_inches='tight')\n",
    "    # print(\"generate image for \"+channel)"
   ]
  },
  {
   "cell_type": "code",
   "execution_count": 8,
   "metadata": {},
   "outputs": [
    {
     "name": "stderr",
     "output_type": "stream",
     "text": [
      "  0%|          | 0/19 [00:00<?, ?it/s]/usr/local/Cellar/python3/3.6.4_2/Frameworks/Python.framework/Versions/3.6/lib/python3.6/site-packages/ipykernel_launcher.py:4: DeprecationWarning: object of type <class 'float'> cannot be safely interpreted as an integer.\n",
      "  after removing the cwd from sys.path.\n",
      "100%|██████████| 19/19 [00:59<00:00,  3.12s/it]\n"
     ]
    }
   ],
   "source": [
    "[alt_visualize(channel) for channel in tqdm(ABABA_mean_result.keys()) if channel[0] != '_'];"
   ]
  },
  {
   "cell_type": "code",
   "execution_count": null,
   "metadata": {},
   "outputs": [],
   "source": []
  }
 ],
 "metadata": {
  "kernelspec": {
   "display_name": "Python 3",
   "language": "python",
   "name": "python3"
  },
  "language_info": {
   "codemirror_mode": {
    "name": "ipython",
    "version": 3
   },
   "file_extension": ".py",
   "mimetype": "text/x-python",
   "name": "python",
   "nbconvert_exporter": "python",
   "pygments_lexer": "ipython3",
   "version": "3.6.4"
  }
 },
 "nbformat": 4,
 "nbformat_minor": 2
}
