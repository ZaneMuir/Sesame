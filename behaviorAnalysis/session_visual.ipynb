{
 "cells": [
  {
   "cell_type": "code",
   "execution_count": 1,
   "metadata": {},
   "outputs": [],
   "source": [
    "#%matplotlib inline\n",
    "import matplotlib.pyplot as plt\n",
    "import pandas as pd\n",
    "import numpy as np\n",
    "import os, re\n",
    "import time"
   ]
  },
  {
   "cell_type": "code",
   "execution_count": 3,
   "metadata": {},
   "outputs": [],
   "source": [
    "def getFileName(name, date=None, stimDataFile=None, lickDataFile=None):\n",
    "    dir_path = os.path.join(\"../../data/cage1\",name)\n",
    "     \n",
    "    if stimDataFile:\n",
    "        stimDataFile = [stimDataFile]\n",
    "        actualStimDataFile = None\n",
    "    elif date:\n",
    "        stimDataFile = [os.path.join(dir_path, item) for item in os.listdir(dir_path) if date in item and \n",
    "                        os.path.splitext(item)[1] == \".data\" and\n",
    "                        re.match(\"^\\d\",item)]\n",
    "        actualStimDataFile = [os.path.join(dir_path, item) for item in os.listdir(dir_path) if date in item and \n",
    "                        os.path.splitext(item)[1] == \".data\" and\n",
    "                        re.match(\"^a\",item)]\n",
    "    else:\n",
    "        stimDataFile = None\n",
    "        actualStimDataFile = None\n",
    "        \n",
    "    if lickDataFile:\n",
    "        lickDataFile = [lickDataFile]\n",
    "    elif date:\n",
    "        lickDataFile = [os.path.join(dir_path, item) for item in os.listdir(dir_path) if '.'.join([date[0:2],date[2:4],date[4:6]]) in item and \n",
    "                        os.path.splitext(item)[1] == \".csv\" and\n",
    "                        re.match(\"^Kaleidoscope\",item)]\n",
    "    else:\n",
    "        lickDataFile = None\n",
    "    \n",
    "    return stimDataFile, actualStimDataFile, lickDataFile"
   ]
  },
  {
   "cell_type": "code",
   "execution_count": 2,
   "metadata": {},
   "outputs": [],
   "source": [
    "def show_session_raw(stim_source, lick_source, start_time, output=None):\n",
    "    def convertExcelDateToTimestamp(excel_T):\n",
    "        \"\"\"Convert Excel datetime format into Unix timestamp.\"\"\"\n",
    "        return (excel_T - 25569)*86400 - 8*3600\n",
    "\n",
    "    lick_ticks = np.array([i-start_time for i in list(map(\n",
    "                                    convertExcelDateToTimestamp,\n",
    "                                    lick_source))])\n",
    "\n",
    "    title = stim_source['session_name']\n",
    "    plt.figure(figsize=(240,5))\n",
    "    tick = 0\n",
    "    for each_trial in stim_source['trial_sequence']:\n",
    "        for color_name, lasting in each_trial['color_sequence']:\n",
    "            color_val = 0 if color_name == \"black\" else 1\n",
    "            plt.plot([tick, tick, tick+lasting, tick+lasting], [0, color_val, color_val, 0], \n",
    "                     color=color_name, \n",
    "                     fillstyle=\"full\")\n",
    "            tick += lasting\n",
    "\n",
    "    for each_lick in lick_ticks[(lick_ticks>=0)&(lick_ticks<=tick)]:\n",
    "        plt.plot([each_lick, each_lick], [0, 2], color=\"red\", alpha=0.5)\n",
    "\n",
    "    plt.xlim((0, tick))\n",
    "    plt.ylim((0,2))\n",
    "    if output:\n",
    "        plt.savefig(output,bbox_inches=\"tight\")\n",
    "        print(\"saved chart:\", output)\n",
    "    else:\n",
    "        plt.show()"
   ]
  },
  {
   "cell_type": "code",
   "execution_count": 6,
   "metadata": {
    "collapsed": true
   },
   "outputs": [
    {
     "name": "stdout",
     "output_type": "stream",
     "text": [
      "saved chart: chart/Auden_180320.png\n",
      "saved chart: chart/Bartolo_180320.png\n",
      "saved chart: chart/Charles_180320.png\n",
      "saved chart: chart/Dorian_180320.png\n",
      "saved chart: chart/Elliott_180320.png\n",
      "saved chart: chart/Frodo_180320.png\n"
     ]
    }
   ],
   "source": [
    "demo = \"../../data/cage1/Auden\"\n",
    "mouselist = ['Auden', 'Bartolo', 'Charles', 'Dorian', 'Elliott', 'Frodo']\n",
    "today = \"180320\"\n",
    "\n",
    "for each_mouse in mouselist:\n",
    "    stimDataFile, _, lickDataFile = getFileName(each_mouse, today)\n",
    "    if len(stimDataFile) == 0:\n",
    "        continue\n",
    "    \n",
    "    with open(stimDataFile[0], 'r') as inputfile:\n",
    "        false = False\n",
    "        true = True\n",
    "        demo_stim = eval(inputfile.readline())\n",
    "        start_time = eval(inputfile.readline())\n",
    "    demo_lick = pd.read_csv(lickDataFile[0])\n",
    "    lick_filter = demo_lick[demo_lick.SystemMsg == \"lick\"]['DateTime'].values\n",
    "    \n",
    "    show_session_raw(demo_stim[0], \n",
    "                 lick_filter, \n",
    "                 start_time, \n",
    "                 \"chart/raw/{name}_{date}.png\".format(name=each_mouse, date=today))\n",
    "        "
   ]
  },
  {
   "cell_type": "code",
   "execution_count": null,
   "metadata": {},
   "outputs": [],
   "source": []
  }
 ],
 "metadata": {
  "kernelspec": {
   "display_name": "Python 3",
   "language": "python",
   "name": "python3"
  },
  "language_info": {
   "codemirror_mode": {
    "name": "ipython",
    "version": 3
   },
   "file_extension": ".py",
   "mimetype": "text/x-python",
   "name": "python",
   "nbconvert_exporter": "python",
   "pygments_lexer": "ipython3",
   "version": "3.6.4"
  }
 },
 "nbformat": 4,
 "nbformat_minor": 2
}
